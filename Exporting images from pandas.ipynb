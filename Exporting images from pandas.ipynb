{
 "cells": [
  {
   "cell_type": "code",
   "execution_count": 15,
   "metadata": {
    "collapsed": true
   },
   "outputs": [],
   "source": [
    "import pandas as pd\n",
    "import matplotlib.pyplot as plt\n",
    "import numpy as np\n",
    "%matplotlib inline\n",
    "\n",
    "import matplotlib\n",
    "matplotlib.rcParams['pdf.fonttype'] = 42"
   ]
  },
  {
   "cell_type": "markdown",
   "metadata": {},
   "source": [
    "# Not the NBA"
   ]
  },
  {
   "cell_type": "code",
   "execution_count": 16,
   "metadata": {
    "collapsed": false
   },
   "outputs": [
    {
     "data": {
      "text/html": [
       "<div>\n",
       "<table border=\"1\" class=\"dataframe\">\n",
       "  <thead>\n",
       "    <tr style=\"text-align: right;\">\n",
       "      <th></th>\n",
       "      <th>age</th>\n",
       "      <th>name length</th>\n",
       "      <th>age_bin</th>\n",
       "    </tr>\n",
       "  </thead>\n",
       "  <tbody>\n",
       "    <tr>\n",
       "      <th>0</th>\n",
       "      <td>67</td>\n",
       "      <td>5</td>\n",
       "      <td>Old people</td>\n",
       "    </tr>\n",
       "    <tr>\n",
       "      <th>1</th>\n",
       "      <td>11</td>\n",
       "      <td>3</td>\n",
       "      <td>Children</td>\n",
       "    </tr>\n",
       "    <tr>\n",
       "      <th>2</th>\n",
       "      <td>52</td>\n",
       "      <td>8</td>\n",
       "      <td>Old people</td>\n",
       "    </tr>\n",
       "    <tr>\n",
       "      <th>3</th>\n",
       "      <td>58</td>\n",
       "      <td>11</td>\n",
       "      <td>Old people</td>\n",
       "    </tr>\n",
       "    <tr>\n",
       "      <th>4</th>\n",
       "      <td>17</td>\n",
       "      <td>10</td>\n",
       "      <td>Teens</td>\n",
       "    </tr>\n",
       "  </tbody>\n",
       "</table>\n",
       "</div>"
      ],
      "text/plain": [
       "   age  name length     age_bin\n",
       "0   67            5  Old people\n",
       "1   11            3    Children\n",
       "2   52            8  Old people\n",
       "3   58           11  Old people\n",
       "4   17           10       Teens"
      ]
     },
     "execution_count": 16,
     "metadata": {},
     "output_type": "execute_result"
    }
   ],
   "source": [
    "df = pd.read_csv(\"ages-and-names.csv\")\n",
    "df.head()"
   ]
  },
  {
   "cell_type": "code",
   "execution_count": 17,
   "metadata": {
    "collapsed": false
   },
   "outputs": [
    {
     "data": {
      "text/plain": [
       "<matplotlib.axes._subplots.AxesSubplot at 0x10a371278>"
      ]
     },
     "execution_count": 17,
     "metadata": {},
     "output_type": "execute_result"
    },
    {
     "data": {
      "image/png": "[encoded data removed]",
      "text/plain": [
       "<matplotlib.figure.Figure at 0x10a25c978>"
      ]
     },
     "metadata": {},
     "output_type": "display_data"
    }
   ],
   "source": [
    "\n",
    "df['age_bin'].value_counts().plot(kind= 'bar')"
   ]
  },
  {
   "cell_type": "code",
   "execution_count": 21,
   "metadata": {
    "collapsed": false
   },
   "outputs": [
    {
     "data": {
      "image/png": "[encoded data removed]",
      "text/plain": [
       "<matplotlib.figure.Figure at 0x10ab709b0>"
      ]
     },
     "metadata": {},
     "output_type": "display_data"
    }
   ],
   "source": [
    "ax= df['age_bin'].value_counts().sort_values().plot(kind='barh')\n",
    "ax.set_title(\"There are too many Olds out there\")\n",
    "ax.set_ylabel(\"Age group\")\n",
    "ax.set_xlabel(\"Number of people in that age group\")\n",
    "\n",
    "#plt.savefig(\"old-people.png\")\n",
    "plt.savefig(\"old-people-with-editable-text-with-no-background.pdf\", transparent=True)"
   ]
  },
  {
   "cell_type": "code",
   "execution_count": null,
   "metadata": {
    "collapsed": true
   },
   "outputs": [],
   "source": []
  },
  {
   "cell_type": "code",
   "execution_count": null,
   "metadata": {
    "collapsed": true
   },
   "outputs": [],
   "source": []
  },
  {
   "cell_type": "markdown",
   "metadata": {},
   "source": [
    "# The NBA"
   ]
  },
  {
   "cell_type": "code",
   "execution_count": 25,
   "metadata": {
    "collapsed": false
   },
   "outputs": [
    {
     "data": {
      "text/html": [
       "<div>\n",
       "<table border=\"1\" class=\"dataframe\">\n",
       "  <thead>\n",
       "    <tr style=\"text-align: right;\">\n",
       "      <th></th>\n",
       "      <th>Player</th>\n",
       "      <th>TEAM</th>\n",
       "      <th>AGE</th>\n",
       "      <th>GP</th>\n",
       "      <th>W</th>\n",
       "      <th>L</th>\n",
       "      <th>MIN</th>\n",
       "      <th>FGM</th>\n",
       "      <th>FGA</th>\n",
       "      <th>FG%</th>\n",
       "      <th>...</th>\n",
       "      <th>DREB</th>\n",
       "      <th>REB</th>\n",
       "      <th>AST</th>\n",
       "      <th>TOV</th>\n",
       "      <th>STL</th>\n",
       "      <th>BLK</th>\n",
       "      <th>PF</th>\n",
       "      <th>DD2</th>\n",
       "      <th>TD3</th>\n",
       "      <th>PTS</th>\n",
       "    </tr>\n",
       "  </thead>\n",
       "  <tbody>\n",
       "    <tr>\n",
       "      <th>0</th>\n",
       "      <td>Stephen Curry</td>\n",
       "      <td>Golden State Warriors</td>\n",
       "      <td>28</td>\n",
       "      <td>79</td>\n",
       "      <td>71</td>\n",
       "      <td>8</td>\n",
       "      <td>34.2</td>\n",
       "      <td>10.2</td>\n",
       "      <td>20.2</td>\n",
       "      <td>50.4</td>\n",
       "      <td>...</td>\n",
       "      <td>4.6</td>\n",
       "      <td>5.4</td>\n",
       "      <td>6.7</td>\n",
       "      <td>3.3</td>\n",
       "      <td>2.1</td>\n",
       "      <td>0.2</td>\n",
       "      <td>2.0</td>\n",
       "      <td>15</td>\n",
       "      <td>2</td>\n",
       "      <td>30.1</td>\n",
       "    </tr>\n",
       "    <tr>\n",
       "      <th>1</th>\n",
       "      <td>James Harden</td>\n",
       "      <td>Houston Rockets</td>\n",
       "      <td>26</td>\n",
       "      <td>82</td>\n",
       "      <td>41</td>\n",
       "      <td>41</td>\n",
       "      <td>38.1</td>\n",
       "      <td>8.7</td>\n",
       "      <td>19.7</td>\n",
       "      <td>43.9</td>\n",
       "      <td>...</td>\n",
       "      <td>5.3</td>\n",
       "      <td>6.1</td>\n",
       "      <td>7.5</td>\n",
       "      <td>4.6</td>\n",
       "      <td>1.7</td>\n",
       "      <td>0.6</td>\n",
       "      <td>2.8</td>\n",
       "      <td>23</td>\n",
       "      <td>3</td>\n",
       "      <td>29.0</td>\n",
       "    </tr>\n",
       "    <tr>\n",
       "      <th>2</th>\n",
       "      <td>Kevin Durant</td>\n",
       "      <td>Oklahoma City Thunder</td>\n",
       "      <td>27</td>\n",
       "      <td>72</td>\n",
       "      <td>52</td>\n",
       "      <td>20</td>\n",
       "      <td>35.8</td>\n",
       "      <td>9.7</td>\n",
       "      <td>19.2</td>\n",
       "      <td>50.5</td>\n",
       "      <td>...</td>\n",
       "      <td>7.6</td>\n",
       "      <td>8.2</td>\n",
       "      <td>5.0</td>\n",
       "      <td>3.5</td>\n",
       "      <td>1.0</td>\n",
       "      <td>1.2</td>\n",
       "      <td>1.9</td>\n",
       "      <td>27</td>\n",
       "      <td>1</td>\n",
       "      <td>28.2</td>\n",
       "    </tr>\n",
       "    <tr>\n",
       "      <th>3</th>\n",
       "      <td>DeMarcus Cousins</td>\n",
       "      <td>Sacramento Kings</td>\n",
       "      <td>25</td>\n",
       "      <td>65</td>\n",
       "      <td>29</td>\n",
       "      <td>36</td>\n",
       "      <td>34.6</td>\n",
       "      <td>9.2</td>\n",
       "      <td>20.5</td>\n",
       "      <td>45.1</td>\n",
       "      <td>...</td>\n",
       "      <td>9.1</td>\n",
       "      <td>11.5</td>\n",
       "      <td>3.3</td>\n",
       "      <td>3.8</td>\n",
       "      <td>1.6</td>\n",
       "      <td>1.4</td>\n",
       "      <td>3.6</td>\n",
       "      <td>47</td>\n",
       "      <td>1</td>\n",
       "      <td>26.9</td>\n",
       "    </tr>\n",
       "    <tr>\n",
       "      <th>4</th>\n",
       "      <td>LeBron James</td>\n",
       "      <td>Cleveland Cavaliers</td>\n",
       "      <td>31</td>\n",
       "      <td>76</td>\n",
       "      <td>56</td>\n",
       "      <td>20</td>\n",
       "      <td>35.6</td>\n",
       "      <td>9.7</td>\n",
       "      <td>18.6</td>\n",
       "      <td>52.0</td>\n",
       "      <td>...</td>\n",
       "      <td>6.0</td>\n",
       "      <td>7.4</td>\n",
       "      <td>6.8</td>\n",
       "      <td>3.3</td>\n",
       "      <td>1.4</td>\n",
       "      <td>0.6</td>\n",
       "      <td>1.9</td>\n",
       "      <td>28</td>\n",
       "      <td>3</td>\n",
       "      <td>25.3</td>\n",
       "    </tr>\n",
       "  </tbody>\n",
       "</table>\n",
       "<p>5 rows × 27 columns</p>\n",
       "</div>"
      ],
      "text/plain": [
       "             Player                   TEAM  AGE  GP   W   L   MIN   FGM   FGA  \\\n",
       "0     Stephen Curry  Golden State Warriors   28  79  71   8  34.2  10.2  20.2   \n",
       "1      James Harden        Houston Rockets   26  82  41  41  38.1   8.7  19.7   \n",
       "2      Kevin Durant  Oklahoma City Thunder   27  72  52  20  35.8   9.7  19.2   \n",
       "3  DeMarcus Cousins       Sacramento Kings   25  65  29  36  34.6   9.2  20.5   \n",
       "4      LeBron James    Cleveland Cavaliers   31  76  56  20  35.6   9.7  18.6   \n",
       "\n",
       "    FG%  ...   DREB   REB  AST  TOV  STL  BLK   PF  DD2  TD3   PTS  \n",
       "0  50.4  ...    4.6   5.4  6.7  3.3  2.1  0.2  2.0   15    2  30.1  \n",
       "1  43.9  ...    5.3   6.1  7.5  4.6  1.7  0.6  2.8   23    3  29.0  \n",
       "2  50.5  ...    7.6   8.2  5.0  3.5  1.0  1.2  1.9   27    1  28.2  \n",
       "3  45.1  ...    9.1  11.5  3.3  3.8  1.6  1.4  3.6   47    1  26.9  \n",
       "4  52.0  ...    6.0   7.4  6.8  3.3  1.4  0.6  1.9   28    3  25.3  \n",
       "\n",
       "[5 rows x 27 columns]"
      ]
     },
     "execution_count": 25,
     "metadata": {},
     "output_type": "execute_result"
    }
   ],
   "source": [
    "# Import the performance data\n",
    "performance_df = pd.read_excel(\"NBA stats.xlsx\", sheetname=\"Player performance\")\n",
    "performance_df.head()"
   ]
  },
  {
   "cell_type": "code",
   "execution_count": 26,
   "metadata": {
    "collapsed": false
   },
   "outputs": [
    {
     "data": {
      "text/html": [
       "<div>\n",
       "<table border=\"1\" class=\"dataframe\">\n",
       "  <thead>\n",
       "    <tr style=\"text-align: right;\">\n",
       "      <th></th>\n",
       "      <th>RK</th>\n",
       "      <th>NAME</th>\n",
       "      <th>POS</th>\n",
       "      <th>TEAM</th>\n",
       "      <th>SALARY</th>\n",
       "    </tr>\n",
       "  </thead>\n",
       "  <tbody>\n",
       "    <tr>\n",
       "      <th>0</th>\n",
       "      <td>1</td>\n",
       "      <td>Mike Conley</td>\n",
       "      <td>PG</td>\n",
       "      <td>Memphis Grizzlies</td>\n",
       "      <td>26540100</td>\n",
       "    </tr>\n",
       "    <tr>\n",
       "      <th>1</th>\n",
       "      <td>2</td>\n",
       "      <td>Al Horford</td>\n",
       "      <td>C</td>\n",
       "      <td>Boston Celtics</td>\n",
       "      <td>26540100</td>\n",
       "    </tr>\n",
       "    <tr>\n",
       "      <th>2</th>\n",
       "      <td>3</td>\n",
       "      <td>Carmelo Anthony</td>\n",
       "      <td>SF</td>\n",
       "      <td>New York Knicks</td>\n",
       "      <td>24559380</td>\n",
       "    </tr>\n",
       "    <tr>\n",
       "      <th>3</th>\n",
       "      <td>4</td>\n",
       "      <td>Damian Lillard</td>\n",
       "      <td>PG</td>\n",
       "      <td>Portland Trail Blazers</td>\n",
       "      <td>24328425</td>\n",
       "    </tr>\n",
       "    <tr>\n",
       "      <th>4</th>\n",
       "      <td>5</td>\n",
       "      <td>Chris Bosh</td>\n",
       "      <td>PF</td>\n",
       "      <td>Miami Heat</td>\n",
       "      <td>23741060</td>\n",
       "    </tr>\n",
       "  </tbody>\n",
       "</table>\n",
       "</div>"
      ],
      "text/plain": [
       "   RK             NAME POS                    TEAM    SALARY\n",
       "0   1      Mike Conley  PG       Memphis Grizzlies  26540100\n",
       "1   2       Al Horford   C          Boston Celtics  26540100\n",
       "2   3  Carmelo Anthony  SF         New York Knicks  24559380\n",
       "3   4   Damian Lillard  PG  Portland Trail Blazers  24328425\n",
       "4   5       Chris Bosh  PF              Miami Heat  23741060"
      ]
     },
     "execution_count": 26,
     "metadata": {},
     "output_type": "execute_result"
    }
   ],
   "source": [
    "# Import the salary data\n",
    "salary_df = pd.read_excel(\"NBA stats.xlsx\", sheetname=\"2016-2017 Salaries\")\n",
    "salary_df.head()"
   ]
  },
  {
   "cell_type": "code",
   "execution_count": 27,
   "metadata": {
    "collapsed": false
   },
   "outputs": [
    {
     "data": {
      "text/html": [
       "<div>\n",
       "<table border=\"1\" class=\"dataframe\">\n",
       "  <thead>\n",
       "    <tr style=\"text-align: right;\">\n",
       "      <th></th>\n",
       "      <th>Player</th>\n",
       "      <th>TEAM_x</th>\n",
       "      <th>AGE</th>\n",
       "      <th>GP</th>\n",
       "      <th>W</th>\n",
       "      <th>L</th>\n",
       "      <th>MIN</th>\n",
       "      <th>FGM</th>\n",
       "      <th>FGA</th>\n",
       "      <th>FG%</th>\n",
       "      <th>...</th>\n",
       "      <th>BLK</th>\n",
       "      <th>PF</th>\n",
       "      <th>DD2</th>\n",
       "      <th>TD3</th>\n",
       "      <th>PTS</th>\n",
       "      <th>RK</th>\n",
       "      <th>NAME</th>\n",
       "      <th>POS</th>\n",
       "      <th>TEAM_y</th>\n",
       "      <th>SALARY</th>\n",
       "    </tr>\n",
       "  </thead>\n",
       "  <tbody>\n",
       "    <tr>\n",
       "      <th>0</th>\n",
       "      <td>Stephen Curry</td>\n",
       "      <td>Golden State Warriors</td>\n",
       "      <td>28</td>\n",
       "      <td>79</td>\n",
       "      <td>71</td>\n",
       "      <td>8</td>\n",
       "      <td>34.2</td>\n",
       "      <td>10.2</td>\n",
       "      <td>20.2</td>\n",
       "      <td>50.4</td>\n",
       "      <td>...</td>\n",
       "      <td>0.2</td>\n",
       "      <td>2.0</td>\n",
       "      <td>15</td>\n",
       "      <td>2</td>\n",
       "      <td>30.1</td>\n",
       "      <td>68</td>\n",
       "      <td>Stephen Curry</td>\n",
       "      <td>PG</td>\n",
       "      <td>Golden State Warriors</td>\n",
       "      <td>12112359</td>\n",
       "    </tr>\n",
       "    <tr>\n",
       "      <th>1</th>\n",
       "      <td>DeMarcus Cousins</td>\n",
       "      <td>Sacramento Kings</td>\n",
       "      <td>25</td>\n",
       "      <td>65</td>\n",
       "      <td>29</td>\n",
       "      <td>36</td>\n",
       "      <td>34.6</td>\n",
       "      <td>9.2</td>\n",
       "      <td>20.5</td>\n",
       "      <td>45.1</td>\n",
       "      <td>...</td>\n",
       "      <td>1.4</td>\n",
       "      <td>3.6</td>\n",
       "      <td>47</td>\n",
       "      <td>1</td>\n",
       "      <td>26.9</td>\n",
       "      <td>35</td>\n",
       "      <td>DeMarcus Cousins</td>\n",
       "      <td>C</td>\n",
       "      <td>Sacramento Kings</td>\n",
       "      <td>16957900</td>\n",
       "    </tr>\n",
       "    <tr>\n",
       "      <th>2</th>\n",
       "      <td>Damian Lillard</td>\n",
       "      <td>Portland Trail Blazers</td>\n",
       "      <td>25</td>\n",
       "      <td>75</td>\n",
       "      <td>40</td>\n",
       "      <td>35</td>\n",
       "      <td>35.7</td>\n",
       "      <td>8.2</td>\n",
       "      <td>19.7</td>\n",
       "      <td>41.9</td>\n",
       "      <td>...</td>\n",
       "      <td>0.4</td>\n",
       "      <td>2.2</td>\n",
       "      <td>15</td>\n",
       "      <td>0</td>\n",
       "      <td>25.1</td>\n",
       "      <td>4</td>\n",
       "      <td>Damian Lillard</td>\n",
       "      <td>PG</td>\n",
       "      <td>Portland Trail Blazers</td>\n",
       "      <td>24328425</td>\n",
       "    </tr>\n",
       "    <tr>\n",
       "      <th>3</th>\n",
       "      <td>Anthony Davis</td>\n",
       "      <td>New Orleans Pelicans</td>\n",
       "      <td>23</td>\n",
       "      <td>61</td>\n",
       "      <td>24</td>\n",
       "      <td>37</td>\n",
       "      <td>35.5</td>\n",
       "      <td>9.2</td>\n",
       "      <td>18.6</td>\n",
       "      <td>49.3</td>\n",
       "      <td>...</td>\n",
       "      <td>2.0</td>\n",
       "      <td>2.4</td>\n",
       "      <td>36</td>\n",
       "      <td>0</td>\n",
       "      <td>24.3</td>\n",
       "      <td>11</td>\n",
       "      <td>Anthony Davis</td>\n",
       "      <td>PF</td>\n",
       "      <td>New Orleans Pelicans</td>\n",
       "      <td>22116750</td>\n",
       "    </tr>\n",
       "    <tr>\n",
       "      <th>4</th>\n",
       "      <td>Russell Westbrook</td>\n",
       "      <td>Oklahoma City Thunder</td>\n",
       "      <td>27</td>\n",
       "      <td>80</td>\n",
       "      <td>55</td>\n",
       "      <td>25</td>\n",
       "      <td>34.4</td>\n",
       "      <td>8.2</td>\n",
       "      <td>18.1</td>\n",
       "      <td>45.4</td>\n",
       "      <td>...</td>\n",
       "      <td>0.3</td>\n",
       "      <td>2.5</td>\n",
       "      <td>54</td>\n",
       "      <td>18</td>\n",
       "      <td>23.5</td>\n",
       "      <td>24</td>\n",
       "      <td>Russell Westbrook</td>\n",
       "      <td>PG</td>\n",
       "      <td>Oklahoma City Thunder</td>\n",
       "      <td>17769374</td>\n",
       "    </tr>\n",
       "  </tbody>\n",
       "</table>\n",
       "<p>5 rows × 32 columns</p>\n",
       "</div>"
      ],
      "text/plain": [
       "              Player                  TEAM_x  AGE  GP   W   L   MIN   FGM  \\\n",
       "0      Stephen Curry   Golden State Warriors   28  79  71   8  34.2  10.2   \n",
       "1   DeMarcus Cousins        Sacramento Kings   25  65  29  36  34.6   9.2   \n",
       "2     Damian Lillard  Portland Trail Blazers   25  75  40  35  35.7   8.2   \n",
       "3      Anthony Davis    New Orleans Pelicans   23  61  24  37  35.5   9.2   \n",
       "4  Russell Westbrook   Oklahoma City Thunder   27  80  55  25  34.4   8.2   \n",
       "\n",
       "    FGA   FG%    ...     BLK   PF  DD2  TD3   PTS  RK               NAME  POS  \\\n",
       "0  20.2  50.4    ...     0.2  2.0   15    2  30.1  68      Stephen Curry   PG   \n",
       "1  20.5  45.1    ...     1.4  3.6   47    1  26.9  35   DeMarcus Cousins    C   \n",
       "2  19.7  41.9    ...     0.4  2.2   15    0  25.1   4     Damian Lillard   PG   \n",
       "3  18.6  49.3    ...     2.0  2.4   36    0  24.3  11      Anthony Davis   PF   \n",
       "4  18.1  45.4    ...     0.3  2.5   54   18  23.5  24  Russell Westbrook   PG   \n",
       "\n",
       "                   TEAM_y    SALARY  \n",
       "0   Golden State Warriors  12112359  \n",
       "1        Sacramento Kings  16957900  \n",
       "2  Portland Trail Blazers  24328425  \n",
       "3    New Orleans Pelicans  22116750  \n",
       "4   Oklahoma City Thunder  17769374  \n",
       "\n",
       "[5 rows x 32 columns]"
      ]
     },
     "execution_count": 27,
     "metadata": {},
     "output_type": "execute_result"
    }
   ],
   "source": [
    "# Merge the two together\n",
    "df = performance_df.merge(salary_df, left_on='Player', right_on='NAME')\n",
    "df.head()"
   ]
  },
  {
   "cell_type": "code",
   "execution_count": 28,
   "metadata": {
    "collapsed": false
   },
   "outputs": [
    {
     "data": {
      "text/plain": [
       "<matplotlib.axes._subplots.AxesSubplot at 0x10ab85be0>"
      ]
     },
     "execution_count": 28,
     "metadata": {},
     "output_type": "execute_result"
    },
    {
     "data": {
      "image/png": "[encoded data removed]",
      "text/plain": [
       "<matplotlib.figure.Figure at 0x10abd1c50>"
      ]
     },
     "metadata": {},
     "output_type": "display_data"
    }
   ],
   "source": [
    "df.plot(kind='scatter', x='PTS', y='SALARY')"
   ]
  },
  {
   "cell_type": "code",
   "execution_count": 30,
   "metadata": {
    "collapsed": false
   },
   "outputs": [
    {
     "data": {
      "text/plain": [
       "(0, 30000000)"
      ]
     },
     "execution_count": 30,
     "metadata": {},
     "output_type": "execute_result"
    },
    {
     "data": {
      "image/png": "[encoded data removed]",
      "text/plain": [
       "<matplotlib.figure.Figure at 0x10a991550>"
      ]
     },
     "metadata": {},
     "output_type": "display_data"
    }
   ],
   "source": [
    "ax = df.plot(kind='scatter', x='PTS', y='SALARY')\n",
    "ax.set_xlim([0,35])\n",
    "ax.set_ylim([0,30000000])"
   ]
  },
  {
   "cell_type": "code",
   "execution_count": 31,
   "metadata": {
    "collapsed": false
   },
   "outputs": [
    {
     "data": {
      "text/plain": [
       "<matplotlib.legend.Legend at 0x10ae0ffd0>"
      ]
     },
     "execution_count": 31,
     "metadata": {},
     "output_type": "execute_result"
    },
    {
     "data": {
      "image/png": "[encoded data removed]",
      "text/plain": [
       "<matplotlib.figure.Figure at 0x10a2c4da0>"
      ]
     },
     "metadata": {},
     "output_type": "display_data"
    }
   ],
   "source": [
    "fig, ax = plt.subplots()\n",
    "for category, group in df.groupby('POS'):\n",
    "    ax.plot(group['PTS'], group['SALARY'], marker='o', linestyle='', label=category, markeredgewidth=0)\n",
    "ax.set_xlim([0, 35])\n",
    "ax.set_ylim([0, 30000000])\n",
    "ax.legend()"
   ]
  },
  {
   "cell_type": "code",
   "execution_count": 33,
   "metadata": {
    "collapsed": false
   },
   "outputs": [
    {
     "data": {
      "text/plain": [
       "<matplotlib.legend.Legend at 0x10aee0908>"
      ]
     },
     "execution_count": 33,
     "metadata": {},
     "output_type": "execute_result"
    },
    {
     "data": {
      "image/png": "[encoded data removed]",
      "text/plain": [
       "<matplotlib.figure.Figure at 0x10aee09e8>"
      ]
     },
     "metadata": {},
     "output_type": "display_data"
    }
   ],
   "source": [
    "fig, ax = plt.subplots()\n",
    "for category, group in df.groupby('POS'):\n",
    "    #ax.plot(group['PTS'], group['SALARY'], marker='o', linestyle='', label=category, markeredgewidth=0)\n",
    "    ax.plot(group['PTS'], group['SALARY'], marker='o', linestyle='', markeredgewidth=0, label=category)\n",
    "ax.set_xlim([0, 35])\n",
    "ax.set_ylim([0, 30000000])\n",
    "ax.legend()"
   ]
  },
  {
   "cell_type": "code",
   "execution_count": 36,
   "metadata": {
    "collapsed": false
   },
   "outputs": [
    {
     "data": {
      "image/png": "[encoded data removed]",
      "text/plain": [
       "<matplotlib.figure.Figure at 0x10a8a67b8>"
      ]
     },
     "metadata": {},
     "output_type": "display_data"
    }
   ],
   "source": [
    "fig, ax = plt.subplots(figsize=(10,5))\n",
    "for category, group in df.groupby('POS'):\n",
    "    #ax.plot(group['PTS'], group['SALARY'], marker='o', linestyle='', label=category, markeredgewidth=0)\n",
    "    ax.plot(group['PTS'], group['SALARY'], marker='o', linestyle='', markeredgewidth=0, label=category)\n",
    "ax.set_xlim([0, 35])\n",
    "ax.set_ylim([0, 30000000])\n",
    "ax.legend()\n",
    "\n",
    "plt.savefig(\"nba-points-vs-salary.pdf\", transparent=True)"
   ]
  },
  {
   "cell_type": "code",
   "execution_count": null,
   "metadata": {
    "collapsed": true
   },
   "outputs": [],
   "source": []
  }
 ],
 "metadata": {
  "kernelspec": {
   "display_name": "Python 3",
   "language": "python",
   "name": "python3"
  },
  "language_info": {
   "codemirror_mode": {
    "name": "ipython",
    "version": 3
   },
   "file_extension": ".py",
   "mimetype": "text/x-python",
   "name": "python",
   "nbconvert_exporter": "python",
   "pygments_lexer": "ipython3",
   "version": "3.5.1"
  }
 },
 "nbformat": 4,
 "nbformat_minor": 0
}
